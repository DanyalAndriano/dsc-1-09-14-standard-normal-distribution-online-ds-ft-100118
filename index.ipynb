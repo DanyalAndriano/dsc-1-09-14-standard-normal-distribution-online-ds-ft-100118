{
 "cells": [
  {
   "cell_type": "markdown",
   "metadata": {},
   "source": [
    "# Standard Normal Distribution\n",
    "\n",
    "## Introduction\n",
    "In this lesson, we will introduce a special case of normal distributions called \"The Standard Normal Distribution\".\n",
    "\n",
    "## Objectives\n",
    "\n",
    "You will be able to:\n",
    "\n",
    "* Compare and contrast the normal and the standard normal distribution\n",
    "* Calculate the z-score (standard score) for an observation from normally distributed data\n",
    "* Understand the process for standardizing data by converting it to the standard normal distribution\n",
    "\n",
    "## What is a standard normal distribution?\n",
    "\n",
    "Previously, we talked about normal (or gaussian) distribution characterized by a bell shape curve. We also identified the mean and standard deviation to be the defining parameters of a normal distribution. As discussed, normal distributions do not necessarily have the same means and standard deviations. \n",
    "\n",
    "The standard normal distribution is a special case of the normal distribution. A normal distribution with a mean of 0 and a standard deviation of 1 is called a standard normal distribution as shown below:\n",
    "<img src = \"snorm2.png\" width = 500>\n",
    "\n",
    "IF we plot a continuous cumulative distribution function as we saw earlier, for a standard normal distrubtion, the cdf would look like this. \n",
    "<img src = \"snorm1.png\" width = 300>\n",
    "\n",
    "Thinking back to the standard deviation rule, since the standard deviation is equal to one, we can say that\n",
    "\n",
    "* 68% of the area lies between +1 and ‐1 sd\n",
    "* 95% of the area lies between +2 and ‐2 sd\n",
    "* 99% of the area lies between +3 and ‐3 sd\n",
    "\n",
    "This is generally referred to as 3-sigma rule, where sigma is the what we call the standard deviation. "
   ]
  },
  {
   "cell_type": "markdown",
   "metadata": {},
   "source": [
    "## Standard score (z-Score)\n",
    "\n",
    "The standard score (more commonly referred to as a z-score) is a very useful statistic because it allows us to:\n",
    "1. Calculate the probability of a score occurring within a given normal distribution and \n",
    "2. Enables comparison between two scores that are from different normal distributions.\n",
    "\n",
    "Any normal distribution can be converted to a standard normal and vice versa using these\n",
    "equations. The standard normal distribution is used to calculate standard score.\n",
    "\n",
    "Normal distributions can be transformed to standard normal distributions by the formula:\n",
    "<img src=\"zform.gif\" width = 200>"
   ]
  },
  {
   "cell_type": "markdown",
   "metadata": {},
   "source": [
    "> Here x is an observation from the original normal distribution, μ is the mean and σ is the standard deviation of original normal distribution. "
   ]
  },
  {
   "cell_type": "markdown",
   "metadata": {},
   "source": [
    "\n",
    "The standard normal distribution is sometimes called the z distribution. A z score always reflects the number of standard deviations above or below the mean a particular score is. \n",
    "\n",
    "### An example \n",
    "\n",
    "For instance, if a person scored a 70 on a test, with results distribution having a mean of 50 and a standard deviation of 10, then they scored 2 standard deviations above the mean. Converting the test scores to z scores, an X of 70 would be:\n",
    "\n",
    "#### z = (70 - 50) / 10  = 2\n",
    "\n",
    "So, a z score of 2 means the original score was 2 standard deviations above the mean. Note that the z distribution will only be a normal distribution if the original distribution (X) is normal. \n",
    "\n",
    "Thinking on these lines, you can also convert a z-score back to a original score (X) by using same formula as:\n",
    "\n",
    "<img src=\"rev.png\" width = 200>\n"
   ]
  },
  {
   "cell_type": "markdown",
   "metadata": {},
   "source": [
    "For above exmaple, this would work out as:\n",
    "#### X = 50 + 2(10) = 70"
   ]
  },
  {
   "cell_type": "markdown",
   "metadata": {},
   "source": [
    "So you see , as we mentioned initially, a standard normal distribution can be a powerful way to analyze observations in terms of their distance from mean and can also identify actual value of an observation - all based on z-score and standard normal distributions. "
   ]
  },
  {
   "cell_type": "markdown",
   "metadata": {},
   "source": [
    "## Data Standardization"
   ]
  },
  {
   "cell_type": "markdown",
   "metadata": {},
   "source": [
    "Data standardization is common data preprocessing skill, which is used to compare a number of observations which may belong to different normal distributions having distinct means and standard deviations. This involves calculating the z score as shown above, to every element of a random continuous variable under a normal distribution. The output of this process would thus become something known as a **z-Distribution** or a **standard normal distribution**. \n",
    "<img src=\"ns1.jpg\" width=500>\n",
    "\n",
    "Let's see a quick example how we can do this. First we'll randomly generate 1000 observations each, for two normal distributions with different means and sd. We shall use seaborn for this to allow us with some quick plotting. "
   ]
  },
  {
   "cell_type": "code",
   "execution_count": 4,
   "metadata": {},
   "outputs": [
    {
     "name": "stderr",
     "output_type": "stream",
     "text": [
      "/opt/conda/lib/python3.6/site-packages/scipy/stats/stats.py:1713: FutureWarning: Using a non-tuple sequence for multidimensional indexing is deprecated; use `arr[tuple(seq)]` instead of `arr[seq]`. In the future this will be interpreted as an array index, `arr[np.array(seq)]`, which will result either in an error or a different result.\n",
      "  return np.add.reduce(sorted[indexer] * weights, axis=axis) / sumval\n"
     ]
    },
    {
     "data": {
      "image/png": "[encoded data removed]",
      "text/plain": [
       "<Figure size 432x288 with 1 Axes>"
      ]
     },
     "metadata": {
      "needs_background": "light"
     },
     "output_type": "display_data"
    }
   ],
   "source": [
    "#!pip install seaborn\n",
    "import numpy as np\n",
    "import seaborn as sns\n",
    "mean1, sd1 = 5, 3 # dist 1 \n",
    "mean2, sd2 = 10,2 # dist 2 \n",
    "d1 = np.random.normal(mean1, sd1, 1000)\n",
    "d2 = np.random.normal(mean2, sd2, 1000)\n",
    "sns.distplot(d1);\n",
    "sns.distplot(d2);"
   ]
  },
  {
   "cell_type": "markdown",
   "metadata": {},
   "source": [
    "So here can see that these distributions differ from each other and are not directly comparable. For a number of machine learning algorithms, and data visualization techniques, it is imperative that the the effect of scale of data should be removed first. Standardization allows this by converting converting a given distribution into a z-distribution and bring them to a common scale (mean = 0, sd = 1 - a standard normal distribution). Let's standardize above distributions and see the effect. "
   ]
  },
  {
   "cell_type": "code",
   "execution_count": null,
   "metadata": {},
   "outputs": [],
   "source": [
    "# Stardardizing and visualizing distributions\n",
    "\n",
    "sns.distplot([(x - d1.mean())/d1.std() for x in d1]);\n",
    "sns.distplot([(x - d2.mean())/d2.std() for x in d2]);\n"
   ]
  },
  {
   "cell_type": "markdown",
   "metadata": {},
   "source": [
    "Here we can see that both distributions are directly comparable on a common standard scale. As mentioned earlier, this trick will come in handy with analytics experiments while training machine learning algorithms. \n",
    "\n",
    "## Level up (Optional) \n",
    "\n",
    "Try converting these standard distributions back to the original normal distributions using the formula given above. Visualize to see if they resemble our original distributions. "
   ]
  },
  {
   "cell_type": "markdown",
   "metadata": {},
   "source": [
    "## Summary\n",
    "\n",
    "In this lesson we looked at a special case of normal distribution called the standrd normal distribution. We also saw how to convert any normal distribution to standrd normal distribution using the z-score. We shall continue on working on this notion in the following labs. "
   ]
  }
 ],
 "metadata": {
  "kernelspec": {
   "display_name": "Python 3",
   "language": "python",
   "name": "python3"
  },
  "language_info": {
   "codemirror_mode": {
    "name": "ipython",
    "version": 3
   },
   "file_extension": ".py",
   "mimetype": "text/x-python",
   "name": "python",
   "nbconvert_exporter": "python",
   "pygments_lexer": "ipython3",
   "version": "3.6.4"
  }
 },
 "nbformat": 4,
 "nbformat_minor": 2
}
